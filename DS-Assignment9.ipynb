{
 "cells": [
  {
   "cell_type": "markdown",
   "id": "a62c5393",
   "metadata": {},
   "source": [
    "#### Question 2\n",
    "\n",
    "Given the information you have received in the course about the Merge sort algorithm, implement a function that uses it. The function needs only to accept the array to be sorted as parameter. The function returns the sorted array. The original array is left untouched.\n",
    "\n",
    "Given an array like: [6, 8, 5, 1, 2], the sorted array would be: [1, 2, 5, 6, 8]"
   ]
  },
  {
   "cell_type": "code",
   "execution_count": 1,
   "id": "79f83b7b",
   "metadata": {},
   "outputs": [
    {
     "name": "stdout",
     "output_type": "stream",
     "text": [
      "Sorted array: [1, 2, 5, 6, 8]\n"
     ]
    }
   ],
   "source": [
    "def merge_sort(array):\n",
    "    \"\"\"\n",
    "    Sort the array using the Merge sort algorithm\n",
    "    \n",
    "    Parameters:\n",
    "    - array: The array to be sorted\n",
    "    \n",
    "    Returns: The sorted array.\n",
    "    \"\"\"\n",
    "    # Base case: If the array has one or zero elements, it's already sorted\n",
    "    if len(array) <= 1:\n",
    "        return array\n",
    "    \n",
    "    # Split the array into two halves\n",
    "    mid = len(array) // 2\n",
    "    left_half = array[:mid]\n",
    "    right_half = array[mid:]\n",
    "    \n",
    "    # Recursively sort both halves\n",
    "    left_sorted = merge_sort(left_half)\n",
    "    right_sorted = merge_sort(right_half)\n",
    "    \n",
    "    # Merge the two sorted halves and return the result\n",
    "    return merge(left_sorted, right_sorted)\n",
    "\n",
    "def merge(left, right):\n",
    "    \"\"\"\n",
    "    Merge two sorted arrays into one sorted array.\n",
    "    \n",
    "    Parameters:\n",
    "    - left: A sorted array\n",
    "    - right: A sorted array\n",
    "    \n",
    "    Returns: A merged sorted array\n",
    "    \"\"\"\n",
    "    merged = []\n",
    "    i = j = 0\n",
    "    \n",
    "    # Compare elements of both arrays and merge them in sorted order\n",
    "    while i < len(left) and j < len(right):\n",
    "        if left[i] < right[j]:\n",
    "            merged.append(left[i])\n",
    "            i += 1\n",
    "        else:\n",
    "            merged.append(right[j])\n",
    "            j += 1\n",
    "    \n",
    "    # If there are remaining elements in either array, append them\n",
    "    merged.extend(left[i:])\n",
    "    merged.extend(right[j:])\n",
    "    \n",
    "    return merged\n",
    "\n",
    "# Example usage:\n",
    "array = [6, 8, 5, 1, 2]\n",
    "sorted_array = merge_sort(array)\n",
    "print(\"Sorted array:\", sorted_array)  # Output: [1, 2, 5, 6, 8]"
   ]
  },
  {
   "cell_type": "code",
   "execution_count": null,
   "id": "bf2c25a1-3593-459d-9a74-a5e0d08389da",
   "metadata": {},
   "outputs": [],
   "source": []
  }
 ],
 "metadata": {
  "kernelspec": {
   "display_name": "Python 3 (ipykernel)",
   "language": "python",
   "name": "python3"
  },
  "language_info": {
   "codemirror_mode": {
    "name": "ipython",
    "version": 3
   },
   "file_extension": ".py",
   "mimetype": "text/x-python",
   "name": "python",
   "nbconvert_exporter": "python",
   "pygments_lexer": "ipython3",
   "version": "3.12.5"
  }
 },
 "nbformat": 4,
 "nbformat_minor": 5
}
